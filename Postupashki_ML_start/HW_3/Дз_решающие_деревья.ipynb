{
 "cells": [
  {
   "cell_type": "markdown",
   "id": "fb297539",
   "metadata": {},
   "source": [
    "# 🌳🌳🌳 Решающие деревья, случайный лес"
   ]
  },
  {
   "cell_type": "markdown",
   "id": "56361441",
   "metadata": {},
   "source": [
    "✅ Реализуйте функцию `find_best_split`, которая должна находить оптимальное разбиение подмножества обучающей выборки. \n",
    "- При решении задачи регрессии используйте дисперсию подвыборки\n",
    "- При решении задачи классификации используйте критерий Джини\n",
    "\n",
    "Функцию`find_best_split` протестируйте на датасете `Boston` из `sklearn`"
   ]
  },
  {
   "cell_type": "markdown",
   "id": "a30fd2e4",
   "metadata": {},
   "source": [
    "При решении задания имейте в виду, что под критерием Джини подразумевается такая функция:\n",
    "\n",
    "$$Q(R) = -\\frac {|R_{\\ell}|}{|R|}H(R_\\ell) -\\frac {|R_r|}{|R|}H(R_r) ,$$\n",
    "\n",
    "где $R$ — множество объектов, попавших в вершину, $R_{\\ell}$ и $R_r$ — объекты, попавшие в левое и правое поддеревья,\n",
    "$H(R) = 1 - p_1^2 - p_0^2$, $p_1$, $p_0$ — доли объектов класса 1 и 0 соответственно.\n",
    "\n",
    "Для категориальных признаков применяется наивный алгоритм разбиения: мы пытаемся найти одно значение, разбиение по которому сильнее всего увеличит критерий информативности. Иными словами, объекты с конкретным значением признака отправляем в левое поддерево, остальные - в правое. "
   ]
  },
  {
   "cell_type": "code",
   "execution_count": null,
   "id": "9d16ec2a",
   "metadata": {},
   "outputs": [],
   "source": [
    "!pip install \"scikit-learn<1.2\" #после этой строчки перезапустите ядро ноутбука"
   ]
  },
  {
   "cell_type": "code",
   "execution_count": null,
   "id": "b41c0217",
   "metadata": {},
   "outputs": [],
   "source": [
    "from collections import Counter\n",
    "from typing import Dict, List, Tuple, Union\n",
    "\n",
    "import matplotlib.pyplot as plt\n",
    "import numpy as np\n",
    "import pandas as pd\n",
    "from sklearn.datasets import load_boston"
   ]
  },
  {
   "cell_type": "code",
   "execution_count": null,
   "id": "9e5e2283",
   "metadata": {},
   "outputs": [],
   "source": [
    "boston = load_boston()\n",
    "X = pd.DataFrame(data=boston[\"data\"], columns=boston[\"feature_names\"])\n",
    "y = boston[\"target\"]\n",
    "X.head()\n",
    "\n",
    "print(boston[\"DESCR\"])"
   ]
  },
  {
   "cell_type": "code",
   "execution_count": null,
   "id": "53ad90cb",
   "metadata": {},
   "outputs": [],
   "source": [
    "def find_best_split(\n",
    "    feature_vector: Union[np.ndarray, pd.DataFrame], \n",
    "    target_vector: Union[np.ndarray, pd.Series],\n",
    "    task: str = \"classification\",\n",
    "    feature_type: str = \"real\"\n",
    ") -> Tuple[np.ndarray, np.ndarray, float, float]:\n",
    "    \"\"\"\n",
    "    Указания:\n",
    "    * Пороги, приводящие к попаданию в одно из поддеревьев пустого множества объектов, не рассматриваются.\n",
    "    * В качестве порогов, нужно брать среднее двух соседних (при сортировке) значений признака\n",
    "    * Поведение функции в случае константного признака может быть любым.\n",
    "    * При одинаковых приростах Джини или дисперсии нужно выбирать минимальный сплит.\n",
    "\n",
    "    :param feature_vector: вещественнозначный вектор значений признака\n",
    "    :param target_vector: вектор классов объектов,  len(feature_vector) == len(target_vector)\n",
    "    :param task: либо `classification`, либо `regression`\n",
    "    :param feature_type: либо `real`, либо `categorical`\n",
    "    \n",
    "    :return thresholds: отсортированный по возрастанию вектор со всеми возможными порогами, по которым объекты можно\n",
    "     разделить на две различные подвыборки, или поддерева\n",
    "    :return ginis/variances: вектор со значениями критерия Джини для каждого из порогов в thresholds len(ginis) == len(thresholds)\n",
    "    :return threshold_best: оптимальный порог (число)\n",
    "    :return gini_best/variance_best: оптимальное значение критерия Джини/дисперсии (число)\n",
    "    \"\"\"\n",
    "    \n",
    "    if task == 'regression':\n",
    "        \n",
    "        \n",
    "        \n",
    "        return (thresholds, variances, threshold_best, variance_best)\n",
    "    \n",
    "    \n",
    "    \n",
    "    elif task == 'classification': #рассматриваем бинарную классификацию\n",
    "        \n",
    "        \n",
    "    \n",
    "        return (thresholds, ginis, threshold_best, gini_best)\n",
    "               \n",
    "\n",
    "    "
   ]
  },
  {
   "cell_type": "code",
   "execution_count": null,
   "id": "d264a2d3",
   "metadata": {},
   "outputs": [],
   "source": [
    "thresholds, variances, threshold_best, variance_best = find_best_split(\n",
    "    X[\"CRIM\"].to_numpy(), \n",
    "    y, \n",
    "    task=\"regression\",\n",
    "    feature_type=\"real\"\n",
    ")"
   ]
  },
  {
   "cell_type": "markdown",
   "id": "c54458c1",
   "metadata": {},
   "source": [
    "**Посмотрим на самый оптимальный порог**"
   ]
  },
  {
   "cell_type": "code",
   "execution_count": null,
   "id": "b6a5cd88",
   "metadata": {},
   "outputs": [],
   "source": []
  },
  {
   "cell_type": "markdown",
   "id": "ad62991c",
   "metadata": {},
   "source": [
    "**Выведите график зависимости значения критерия ошибки от порогового значения при разбиении вершины по признаку `CRIM`.**"
   ]
  },
  {
   "cell_type": "code",
   "execution_count": null,
   "id": "ae88c2bd",
   "metadata": {},
   "outputs": [],
   "source": []
  }
 ],
 "metadata": {
  "kernelspec": {
   "display_name": "Python 3 (ipykernel)",
   "language": "python",
   "name": "python3"
  },
  "language_info": {
   "codemirror_mode": {
    "name": "ipython",
    "version": 3
   },
   "file_extension": ".py",
   "mimetype": "text/x-python",
   "name": "python",
   "nbconvert_exporter": "python",
   "pygments_lexer": "ipython3",
   "version": "3.11.5"
  }
 },
 "nbformat": 4,
 "nbformat_minor": 5
}
